{
 "cells": [
  {
   "cell_type": "code",
   "execution_count": 1,
   "metadata": {},
   "outputs": [],
   "source": [
    "import cv2\n",
    "import numpy as np\n",
    "from PIL import Image"
   ]
  },
  {
   "cell_type": "code",
   "execution_count": 2,
   "metadata": {},
   "outputs": [],
   "source": [
    "# Load image\n",
    "image = cv2.imread('Test Images\\image-6.png')"
   ]
  },
  {
   "cell_type": "code",
   "execution_count": 3,
   "metadata": {},
   "outputs": [],
   "source": [
    "# Preprocess the image\n",
    "gray = cv2.cvtColor(image, cv2.COLOR_BGR2GRAY)\n",
    "blurred = cv2.GaussianBlur(gray, (5, 5), 0)\n",
    "\n",
    "# Thresholding\n",
    "_, thresh = cv2.threshold(blurred, 0, 255, cv2.THRESH_BINARY_INV + cv2.THRESH_OTSU)"
   ]
  },
  {
   "cell_type": "code",
   "execution_count": 4,
   "metadata": {},
   "outputs": [],
   "source": [
    "# Find contours\n",
    "contours, _ = cv2.findContours(thresh, cv2.RETR_EXTERNAL, cv2.CHAIN_APPROX_SIMPLE)\n",
    "\n",
    "# Sort contours based on x-coordinate (left to right)\n",
    "contours = sorted(contours, key=lambda ctr: cv2.boundingRect(ctr)[0])\n",
    "\n",
    "# Filter contours and extract character bounding boxes\n",
    "min_area = 100  # Minimum contour area to be considered\n",
    "min_aspect_ratio = 0.2  # Minimum aspect ratio of the bounding box\n",
    "characters = []\n",
    "for contour in contours:\n",
    "    x, y, w, h = cv2.boundingRect(contour)\n",
    "    area = cv2.contourArea(contour)\n",
    "    aspect_ratio = w / float(h)\n",
    "    if area > min_area and aspect_ratio > min_aspect_ratio:\n",
    "        characters.append((x, y, w, h))\n",
    "\n",
    "# Extract individual characters\n",
    "for i, (x, y, w, h) in enumerate(characters):\n",
    "    char_image = image[y:y+h, x:x+w]\n",
    "\n",
    "    #Adding border\n",
    "    border_color = (255, 255, 255)  # White color\n",
    "    boundary_size = 10\n",
    "    border_image = cv2.copyMakeBorder(char_image, boundary_size, boundary_size, boundary_size, boundary_size, cv2.BORDER_CONSTANT, value=border_color)\n",
    "    \n",
    "    # Making image a square\n",
    "    height, width, channels = border_image.shape\n",
    "    size = max(height, width)\n",
    "    square_image = np.ones((size, size, channels), dtype=np.uint8) * 255\n",
    "    x_offset = (size - width) // 2\n",
    "    y_offset = (size - height) // 2\n",
    "    square_image[y_offset:y_offset+height, x_offset:x_offset+width, :] = border_image\n",
    "    cv2.imwrite(f'Characters/character_{i}.jpg', square_image)\n",
    "    cv2.rectangle(image, (x, y), (x+w, y+h), (0, 255, 0), 2)"
   ]
  },
  {
   "cell_type": "code",
   "execution_count": 5,
   "metadata": {},
   "outputs": [],
   "source": [
    "# Display the output\n",
    "cv2.imshow('Segmented Characters', image)\n",
    "cv2.waitKey(0)\n",
    "cv2.destroyAllWindows()"
   ]
  },
  {
   "cell_type": "code",
   "execution_count": 6,
   "metadata": {},
   "outputs": [],
   "source": [
    "from tensorflow.keras.models import load_model\n",
    "digits_model = load_model('digits_model.h5')\n",
    "symbols_model = load_model('arithmetic_model.h5')"
   ]
  },
  {
   "cell_type": "code",
   "execution_count": 7,
   "metadata": {},
   "outputs": [
    {
     "name": "stdout",
     "output_type": "stream",
     "text": [
      "1/1 [==============================] - 0s 170ms/step\n",
      "1/1 [==============================] - 0s 73ms/step\n",
      "1/1 [==============================] - 0s 24ms/step\n",
      "1/1 [==============================] - 0s 24ms/step\n",
      "1/1 [==============================] - 0s 25ms/step\n",
      "1/1 [==============================] - 0s 25ms/step\n",
      "1/1 [==============================] - 0s 33ms/step\n",
      "1/1 [==============================] - 0s 35ms/step\n",
      "17*3\n"
     ]
    }
   ],
   "source": [
    "expression=''\n",
    "\n",
    "for j in range(0,i+1) :\n",
    "    # Open the grayscale image file\n",
    "    image = Image.open(f'Characters\\character_{j}.jpg')  \n",
    "\n",
    "    # Convert the image to grayscale mode\n",
    "    image = image.convert(\"L\")\n",
    "\n",
    "    width, height = image.size\n",
    "\n",
    "    # Resize the image to the desired input size\n",
    "    resized_image = image.resize((28,28))\n",
    "\n",
    "    # Convert the image to a NumPy array\n",
    "    image_array = np.array(resized_image)\n",
    "\n",
    "    # Normalize the pixel values (if required)\n",
    "    normalized_image = image_array / 255.0\n",
    "\n",
    "    # Reshape the image array if necessary\n",
    "    reshaped_image = normalized_image.reshape((1, 28, 28, 1))\n",
    "\n",
    "    digit_prediction = digits_model.predict(reshaped_image)\n",
    "    symbol_prediction = symbols_model.predict(reshaped_image)\n",
    "    \n",
    "    if(np.max(symbol_prediction)>0.999 and np.max(digit_prediction)<0.9) :\n",
    "        #Arithmetic symbol\n",
    "        predicted_label = np.argmax(symbol_prediction, axis=1)\n",
    "        predicted_symbol = None\n",
    "        if(predicted_label[0]==0) : predicted_symbol = '/'\n",
    "        elif (predicted_label[0]==1) : predicted_symbol = '-'\n",
    "        elif (predicted_label[0]==2) : predicted_symbol = '+'\n",
    "        elif (predicted_label[0]==3) : predicted_symbol = '*'\n",
    "        expression+=predicted_symbol\n",
    "    else :\n",
    "        #Digit\n",
    "        predicted_label = np.argmax(digit_prediction, axis=1)\n",
    "        expression+=str(predicted_label[0])\n",
    "\n",
    "print(expression)"
   ]
  },
  {
   "cell_type": "code",
   "execution_count": 8,
   "metadata": {},
   "outputs": [
    {
     "name": "stdout",
     "output_type": "stream",
     "text": [
      "Result: 51\n"
     ]
    }
   ],
   "source": [
    "result = eval(expression)\n",
    "print(\"Result:\", result)"
   ]
  }
 ],
 "metadata": {
  "kernelspec": {
   "display_name": "base",
   "language": "python",
   "name": "python3"
  },
  "language_info": {
   "codemirror_mode": {
    "name": "ipython",
    "version": 3
   },
   "file_extension": ".py",
   "mimetype": "text/x-python",
   "name": "python",
   "nbconvert_exporter": "python",
   "pygments_lexer": "ipython3",
   "version": "3.9.13"
  },
  "orig_nbformat": 4
 },
 "nbformat": 4,
 "nbformat_minor": 2
}
