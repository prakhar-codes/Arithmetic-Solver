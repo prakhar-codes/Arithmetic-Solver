{
 "cells": [
  {
   "cell_type": "code",
   "execution_count": 1,
   "metadata": {},
   "outputs": [
    {
     "name": "stdout",
     "output_type": "stream",
     "text": [
      "pygame 2.4.0 (SDL 2.26.4, Python 3.9.13)\n",
      "Hello from the pygame community. https://www.pygame.org/contribute.html\n"
     ]
    }
   ],
   "source": [
    "import numpy as np\n",
    "from PIL import Image\n",
    "import pygame\n",
    "from tensorflow.keras.models import load_model\n",
    "import tkinter as tk\n",
    "from tkinter import messagebox"
   ]
  },
  {
   "cell_type": "code",
   "execution_count": 2,
   "metadata": {},
   "outputs": [],
   "source": [
    "model = load_model('digit_recognization_model.h5')"
   ]
  },
  {
   "cell_type": "code",
   "execution_count": 3,
   "metadata": {},
   "outputs": [],
   "source": [
    "def predictDigit() :\n",
    "    image = Image.open(\"grayscale_image.png\")  \n",
    "    image = image.convert(\"L\")\n",
    "    width, height = image.size\n",
    "    resized_image = image.resize((28,28))\n",
    "    image_array = np.array(resized_image)\n",
    "    normalized_image = image_array / 255.0\n",
    "    reshaped_image = normalized_image.reshape((1, 28, 28, 1))\n",
    "    single_prediction = model.predict(reshaped_image)\n",
    "    predicted_label = np.argmax(single_prediction, axis=1)\n",
    "    window = tk.Tk()\n",
    "    window.withdraw()\n",
    "    messagebox.showinfo(\"Prediction\",\"The model predicted \"+str(predicted_label[0]))\n",
    "    window.destroy()\n",
    "    print(predicted_label[0])"
   ]
  },
  {
   "cell_type": "code",
   "execution_count": 4,
   "metadata": {},
   "outputs": [
    {
     "name": "stdout",
     "output_type": "stream",
     "text": [
      "1/1 [==============================] - 0s 101ms/step\n",
      "7\n",
      "1/1 [==============================] - 0s 24ms/step\n",
      "5\n",
      "1/1 [==============================] - 0s 19ms/step\n",
      "0\n",
      "1/1 [==============================] - 0s 21ms/step\n",
      "8\n",
      "1/1 [==============================] - 0s 17ms/step\n",
      "1\n",
      "1/1 [==============================] - 0s 17ms/step\n",
      "2\n",
      "1/1 [==============================] - 0s 19ms/step\n",
      "4\n"
     ]
    }
   ],
   "source": [
    "# Initialize Pygame\n",
    "pygame.init()\n",
    "\n",
    "# Set the dimensions of the canvas\n",
    "canvas_width = 400\n",
    "canvas_height = 400\n",
    "\n",
    "# Create the canvas\n",
    "canvas = pygame.display.set_mode((canvas_width, canvas_height))\n",
    "pygame.display.set_caption(\"Grayscale Image Drawing\")\n",
    "\n",
    "# Set the background color to black\n",
    "canvas.fill((0, 0, 0))\n",
    "\n",
    "# Create a clock object to control the frame rate\n",
    "clock = pygame.time.Clock()\n",
    "\n",
    "# Set the default color to white (255) and the default drawing state to False\n",
    "color = (255, 255, 255)\n",
    "drawing = False\n",
    "last_pos = None\n",
    "\n",
    "# Set the line thickness\n",
    "line_width = 10\n",
    "\n",
    "# Main game loop\n",
    "running = True\n",
    "while running:\n",
    "    # Handle events\n",
    "    for event in pygame.event.get():\n",
    "        if event.type == pygame.QUIT:\n",
    "            running = False\n",
    "        elif event.type == pygame.MOUSEBUTTONDOWN:\n",
    "            if event.button == 1:  # Left mouse button\n",
    "                drawing = True\n",
    "                last_pos = pygame.mouse.get_pos()\n",
    "        elif event.type == pygame.MOUSEBUTTONUP:\n",
    "            if event.button == 1:  # Left mouse button\n",
    "                drawing = False\n",
    "        elif event.type == pygame.KEYDOWN:\n",
    "            if event.key == pygame.K_RETURN:  # Press Enter key to save the image\n",
    "                pygame.image.save(canvas, \"grayscale_image.png\")\n",
    "                predictDigit()\n",
    "                canvas.fill((0, 0, 0))\n",
    "\n",
    "    # Update the canvas if drawing\n",
    "    if drawing:\n",
    "        current_pos = pygame.mouse.get_pos()\n",
    "        if last_pos is not None:\n",
    "            pygame.draw.line(canvas, color, last_pos, current_pos, line_width)\n",
    "        last_pos = current_pos\n",
    "\n",
    "    # Update the display\n",
    "    pygame.display.flip()\n",
    "\n",
    "    # Limit the frame rate to 60 FPS\n",
    "    clock.tick(60)\n",
    "\n",
    "# Quit Pygame\n",
    "pygame.quit()\n"
   ]
  }
 ],
 "metadata": {
  "kernelspec": {
   "display_name": "base",
   "language": "python",
   "name": "python3"
  },
  "language_info": {
   "codemirror_mode": {
    "name": "ipython",
    "version": 3
   },
   "file_extension": ".py",
   "mimetype": "text/x-python",
   "name": "python",
   "nbconvert_exporter": "python",
   "pygments_lexer": "ipython3",
   "version": "3.9.13"
  },
  "orig_nbformat": 4
 },
 "nbformat": 4,
 "nbformat_minor": 2
}
