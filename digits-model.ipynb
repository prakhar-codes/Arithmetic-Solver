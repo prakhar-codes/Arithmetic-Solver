{
 "cells": [
  {
   "cell_type": "code",
   "execution_count": 63,
   "metadata": {},
   "outputs": [],
   "source": [
    "import numpy as np\n",
    "import pandas as pd\n",
    "import tensorflow as tf\n",
    "import os\n",
    "from PIL import Image\n",
    "from sklearn.model_selection import train_test_split\n",
    "from keras.models import Sequential\n",
    "from keras.layers import Conv2D, MaxPooling2D, Flatten, Dense\n",
    "from keras.preprocessing.image import ImageDataGenerator"
   ]
  },
  {
   "cell_type": "code",
   "execution_count": 64,
   "metadata": {},
   "outputs": [],
   "source": [
    "image_data = pd.read_csv('train.csv')"
   ]
  },
  {
   "cell_type": "code",
   "execution_count": 65,
   "metadata": {},
   "outputs": [],
   "source": [
    "labels = image_data['label']\n",
    "pixels = image_data.drop(\"label\", axis=1)"
   ]
  },
  {
   "cell_type": "code",
   "execution_count": 66,
   "metadata": {},
   "outputs": [],
   "source": [
    "pixels = np.bitwise_not(pixels)"
   ]
  },
  {
   "cell_type": "code",
   "execution_count": 67,
   "metadata": {},
   "outputs": [],
   "source": [
    "pixels = pixels.values.reshape(-1, 28, 28, 1)"
   ]
  },
  {
   "cell_type": "code",
   "execution_count": 68,
   "metadata": {},
   "outputs": [],
   "source": [
    "datagen = ImageDataGenerator(rescale = 1./255, zoom_range=0.2, validation_split=0.2)\n",
    "                             # shear_range = 0.2, zoom_range = 0.2"
   ]
  },
  {
   "cell_type": "code",
   "execution_count": 69,
   "metadata": {},
   "outputs": [],
   "source": [
    "training_set = datagen.flow(pixels, labels, batch_size = 32, subset='training')"
   ]
  },
  {
   "cell_type": "code",
   "execution_count": 70,
   "metadata": {},
   "outputs": [],
   "source": [
    "validation_set = datagen.flow(pixels, labels, batch_size = 32, subset='validation')"
   ]
  },
  {
   "cell_type": "code",
   "execution_count": 71,
   "metadata": {},
   "outputs": [],
   "source": [
    "model=Sequential()\n",
    "model.add(Conv2D(32, (3, 3), activation='relu', input_shape=(28, 28, 1)))\n",
    "model.add(MaxPooling2D((2, 2)))\n",
    "model.add(Conv2D(32, (3, 3), activation='relu'))\n",
    "model.add(MaxPooling2D((2, 2)))\n",
    "model.add(Flatten())\n",
    "model.add(Dense(64, activation='relu'))\n",
    "model.add(Dense(10, activation='softmax'))\n"
   ]
  },
  {
   "cell_type": "code",
   "execution_count": 72,
   "metadata": {},
   "outputs": [
    {
     "name": "stdout",
     "output_type": "stream",
     "text": [
      "Model: \"sequential_5\"\n",
      "_________________________________________________________________\n",
      " Layer (type)                Output Shape              Param #   \n",
      "=================================================================\n",
      " conv2d_10 (Conv2D)          (None, 26, 26, 32)        320       \n",
      "                                                                 \n",
      " max_pooling2d_10 (MaxPoolin  (None, 13, 13, 32)       0         \n",
      " g2D)                                                            \n",
      "                                                                 \n",
      " conv2d_11 (Conv2D)          (None, 11, 11, 32)        9248      \n",
      "                                                                 \n",
      " max_pooling2d_11 (MaxPoolin  (None, 5, 5, 32)         0         \n",
      " g2D)                                                            \n",
      "                                                                 \n",
      " flatten_5 (Flatten)         (None, 800)               0         \n",
      "                                                                 \n",
      " dense_10 (Dense)            (None, 64)                51264     \n",
      "                                                                 \n",
      " dense_11 (Dense)            (None, 10)                650       \n",
      "                                                                 \n",
      "=================================================================\n",
      "Total params: 61,482\n",
      "Trainable params: 61,482\n",
      "Non-trainable params: 0\n",
      "_________________________________________________________________\n"
     ]
    }
   ],
   "source": [
    "model.summary()"
   ]
  },
  {
   "cell_type": "code",
   "execution_count": 73,
   "metadata": {},
   "outputs": [
    {
     "name": "stdout",
     "output_type": "stream",
     "text": [
      "Epoch 1/25\n",
      "1050/1050 [==============================] - 12s 11ms/step - loss: 0.2524 - accuracy: 0.9228 - val_loss: 0.1419 - val_accuracy: 0.9551\n",
      "Epoch 2/25\n",
      "1050/1050 [==============================] - 12s 11ms/step - loss: 0.0845 - accuracy: 0.9732 - val_loss: 0.0794 - val_accuracy: 0.9746\n",
      "Epoch 3/25\n",
      "1050/1050 [==============================] - 11s 11ms/step - loss: 0.0601 - accuracy: 0.9810 - val_loss: 0.0552 - val_accuracy: 0.9817\n",
      "Epoch 4/25\n",
      "1050/1050 [==============================] - 13s 13ms/step - loss: 0.0472 - accuracy: 0.9857 - val_loss: 0.0630 - val_accuracy: 0.9806\n",
      "Epoch 5/25\n",
      "1050/1050 [==============================] - 13s 12ms/step - loss: 0.0408 - accuracy: 0.9870 - val_loss: 0.0467 - val_accuracy: 0.9848\n",
      "Epoch 6/25\n",
      "1050/1050 [==============================] - 22s 21ms/step - loss: 0.0352 - accuracy: 0.9884 - val_loss: 0.0481 - val_accuracy: 0.9850\n",
      "Epoch 7/25\n",
      "1050/1050 [==============================] - 17s 16ms/step - loss: 0.0327 - accuracy: 0.9894 - val_loss: 0.0462 - val_accuracy: 0.9864\n",
      "Epoch 8/25\n",
      "1050/1050 [==============================] - 12s 11ms/step - loss: 0.0286 - accuracy: 0.9908 - val_loss: 0.0368 - val_accuracy: 0.9876\n",
      "Epoch 9/25\n",
      "1050/1050 [==============================] - 23s 22ms/step - loss: 0.0245 - accuracy: 0.9918 - val_loss: 0.0392 - val_accuracy: 0.9875\n",
      "Epoch 10/25\n",
      "1050/1050 [==============================] - 30s 28ms/step - loss: 0.0224 - accuracy: 0.9927 - val_loss: 0.0428 - val_accuracy: 0.9862\n",
      "Epoch 11/25\n",
      "1050/1050 [==============================] - 28s 27ms/step - loss: 0.0200 - accuracy: 0.9935 - val_loss: 0.0420 - val_accuracy: 0.9875\n",
      "Epoch 12/25\n",
      "1050/1050 [==============================] - 20s 19ms/step - loss: 0.0193 - accuracy: 0.9937 - val_loss: 0.0444 - val_accuracy: 0.9862\n",
      "Epoch 13/25\n",
      "1050/1050 [==============================] - 15s 14ms/step - loss: 0.0177 - accuracy: 0.9941 - val_loss: 0.0417 - val_accuracy: 0.9877\n",
      "Epoch 14/25\n",
      "1050/1050 [==============================] - 14s 14ms/step - loss: 0.0160 - accuracy: 0.9947 - val_loss: 0.0472 - val_accuracy: 0.9855\n",
      "Epoch 15/25\n",
      "1050/1050 [==============================] - 14s 13ms/step - loss: 0.0168 - accuracy: 0.9947 - val_loss: 0.0482 - val_accuracy: 0.9863\n",
      "Epoch 16/25\n",
      "1050/1050 [==============================] - 14s 14ms/step - loss: 0.0140 - accuracy: 0.9956 - val_loss: 0.0407 - val_accuracy: 0.9893\n",
      "Epoch 17/25\n",
      "1050/1050 [==============================] - 15s 14ms/step - loss: 0.0133 - accuracy: 0.9958 - val_loss: 0.0424 - val_accuracy: 0.9879\n",
      "Epoch 18/25\n",
      "1050/1050 [==============================] - 14s 14ms/step - loss: 0.0118 - accuracy: 0.9960 - val_loss: 0.0441 - val_accuracy: 0.9881\n",
      "Epoch 19/25\n",
      "1050/1050 [==============================] - 20s 19ms/step - loss: 0.0131 - accuracy: 0.9953 - val_loss: 0.0448 - val_accuracy: 0.9888\n",
      "Epoch 20/25\n",
      "1050/1050 [==============================] - 15s 14ms/step - loss: 0.0118 - accuracy: 0.9962 - val_loss: 0.0535 - val_accuracy: 0.9868\n",
      "Epoch 21/25\n",
      "1050/1050 [==============================] - 14s 14ms/step - loss: 0.0109 - accuracy: 0.9962 - val_loss: 0.0403 - val_accuracy: 0.9896\n",
      "Epoch 22/25\n",
      "1050/1050 [==============================] - 14s 13ms/step - loss: 0.0090 - accuracy: 0.9968 - val_loss: 0.0486 - val_accuracy: 0.9886\n",
      "Epoch 23/25\n",
      "1050/1050 [==============================] - 15s 14ms/step - loss: 0.0116 - accuracy: 0.9960 - val_loss: 0.0391 - val_accuracy: 0.9892\n",
      "Epoch 24/25\n",
      "1050/1050 [==============================] - 14s 13ms/step - loss: 0.0100 - accuracy: 0.9965 - val_loss: 0.0431 - val_accuracy: 0.9883\n",
      "Epoch 25/25\n",
      "1050/1050 [==============================] - 14s 13ms/step - loss: 0.0089 - accuracy: 0.9971 - val_loss: 0.0522 - val_accuracy: 0.9873\n"
     ]
    }
   ],
   "source": [
    "model.compile(optimizer='adam',\n",
    "              loss='sparse_categorical_crossentropy',\n",
    "              metrics=['accuracy'])\n",
    "\n",
    "history = model.fit(x = training_set, validation_data = validation_set, epochs = 25)"
   ]
  },
  {
   "cell_type": "code",
   "execution_count": 74,
   "metadata": {},
   "outputs": [],
   "source": [
    "model.save(\"digits_model.h5\")"
   ]
  }
 ],
 "metadata": {
  "kernelspec": {
   "display_name": "base",
   "language": "python",
   "name": "python3"
  },
  "language_info": {
   "codemirror_mode": {
    "name": "ipython",
    "version": 3
   },
   "file_extension": ".py",
   "mimetype": "text/x-python",
   "name": "python",
   "nbconvert_exporter": "python",
   "pygments_lexer": "ipython3",
   "version": "3.9.13"
  },
  "orig_nbformat": 4
 },
 "nbformat": 4,
 "nbformat_minor": 2
}
