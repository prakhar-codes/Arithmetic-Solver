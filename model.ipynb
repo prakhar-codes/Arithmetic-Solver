{
 "cells": [
  {
   "cell_type": "code",
   "execution_count": 243,
   "metadata": {},
   "outputs": [],
   "source": [
    "import numpy as np\n",
    "import pandas as pd\n",
    "import tensorflow as tf\n",
    "import os\n",
    "import cv2\n",
    "from PIL import Image\n",
    "from sklearn.model_selection import train_test_split\n",
    "from keras.models import Sequential\n",
    "from keras.layers import Conv2D, MaxPooling2D, Flatten, Dense\n",
    "from keras.preprocessing.image import ImageDataGenerator"
   ]
  },
  {
   "attachments": {},
   "cell_type": "markdown",
   "metadata": {},
   "source": [
    "## Preparing Data"
   ]
  },
  {
   "cell_type": "code",
   "execution_count": 244,
   "metadata": {},
   "outputs": [],
   "source": [
    "train_dir = \"Training/train\" \n",
    "eval_dir = \"Training/eval\"  \n",
    "classes = sorted(os.listdir(train_dir))\n",
    "num_classes = len(classes)\n",
    "image_size = (28, 28)  "
   ]
  },
  {
   "cell_type": "code",
   "execution_count": 245,
   "metadata": {},
   "outputs": [],
   "source": [
    "def load_images_from_folder(folder):\n",
    "    images = []\n",
    "    labels = []\n",
    "    for i, cls in enumerate(classes):\n",
    "        cls_dir = os.path.join(folder, cls)\n",
    "        for image_name in os.listdir(cls_dir):\n",
    "            image = cv2.imread(os.path.join(cls_dir, image_name), cv2.IMREAD_GRAYSCALE)\n",
    "            inverted_image = cv2.bitwise_not(image)  # Perform binary inversion\n",
    "            inverted_image = cv2.resize(inverted_image, image_size)\n",
    "            images.append(inverted_image)\n",
    "            symbol = None\n",
    "            if(i==0) : symbol = 10\n",
    "            elif (i==1) : symbol = 11\n",
    "            elif (i==2) : symbol = 12\n",
    "            elif (i==3) : symbol = 13\n",
    "            labels.append(symbol)\n",
    "    return np.array(images), np.array(labels)\n",
    "\n",
    "train_images, train_labels = load_images_from_folder(train_dir)\n",
    "eval_images, eval_labels = load_images_from_folder(eval_dir)"
   ]
  },
  {
   "cell_type": "code",
   "execution_count": 246,
   "metadata": {},
   "outputs": [],
   "source": [
    "def getData(images, labels) :\n",
    "    flattened_images = images.reshape(images.shape[0], -1)  # Reshape each image to a 1D array\n",
    "    result = np.concatenate((labels.reshape(-1, 1), flattened_images), axis=1)  # Concatenate labels with flattened images\n",
    "    return result"
   ]
  },
  {
   "cell_type": "code",
   "execution_count": 247,
   "metadata": {},
   "outputs": [],
   "source": [
    "# Convert the NumPy arrays to DataFrames\n",
    "train_df = pd.DataFrame(getData(train_images, train_labels))\n",
    "eval_df = pd.DataFrame(getData(eval_images, eval_labels))"
   ]
  },
  {
   "cell_type": "code",
   "execution_count": 248,
   "metadata": {},
   "outputs": [],
   "source": [
    "# Merge the dataframes\n",
    "merged_df = pd.concat([train_df, eval_df], axis=0)\n",
    "\n",
    "# Reset the index of the concatenated DataFrame\n",
    "merged_df = merged_df.reset_index(drop=True)\n"
   ]
  },
  {
   "cell_type": "code",
   "execution_count": 249,
   "metadata": {},
   "outputs": [],
   "source": [
    "\n",
    "# Add column headers\n",
    "column_names = ['label'] + [f'pixel{i}' for i in range(0,784)]\n",
    "merged_df.columns = column_names\n"
   ]
  },
  {
   "cell_type": "code",
   "execution_count": 250,
   "metadata": {},
   "outputs": [],
   "source": [
    "# Randomize the rows in the concatenated DataFrame\n",
    "randomized_df = merged_df.sample(frac=1, random_state=22)"
   ]
  },
  {
   "cell_type": "code",
   "execution_count": 251,
   "metadata": {},
   "outputs": [],
   "source": [
    "# Write DataFrame to CSV file with headers\n",
    "randomized_df.to_csv('symbols.csv', index=False)"
   ]
  },
  {
   "attachments": {},
   "cell_type": "markdown",
   "metadata": {},
   "source": [
    "## Preprocessing"
   ]
  },
  {
   "cell_type": "code",
   "execution_count": 252,
   "metadata": {},
   "outputs": [],
   "source": [
    "symbols_data = pd.read_csv('symbols.csv')\n",
    "digits_data = pd.read_csv('train.csv')"
   ]
  },
  {
   "cell_type": "code",
   "execution_count": 253,
   "metadata": {},
   "outputs": [],
   "source": [
    "# Concatenate the symbols and digits data\n",
    "combined_data = np.concatenate((symbols_data, digits_data))\n",
    "\n",
    "# Split the data into train and validation sets\n",
    "train_data, val_data = train_test_split(combined_data, test_size=0.2, random_state=42)\n",
    "\n",
    "# Extract the labels and pixel data\n",
    "train_labels = train_data[:, 0]\n",
    "train_pixels = train_data[:, 1:]\n",
    "\n",
    "val_labels = val_data[:, 0]\n",
    "val_pixels = val_data[:, 1:]\n",
    "\n",
    "# Reshape pixel data into images (assuming they are 28x28 pixels)\n",
    "train_images = train_pixels.reshape(-1, 28, 28, 1)\n",
    "val_images = val_pixels.reshape(-1, 28, 28, 1)"
   ]
  },
  {
   "cell_type": "code",
   "execution_count": 254,
   "metadata": {},
   "outputs": [],
   "source": [
    "# Create an ImageDataGenerator for data augmentation and normalization\n",
    "datagen = ImageDataGenerator(rescale=1.0/255.0)\n",
    "\n",
    "# Create the train generator\n",
    "training_set = datagen.flow(\n",
    "    train_images,\n",
    "    train_labels,\n",
    "    batch_size=32,\n",
    "    shuffle=True\n",
    ")\n",
    "\n",
    "# Create the validation generator\n",
    "validation_set = datagen.flow(\n",
    "    val_images,\n",
    "    val_labels,\n",
    "    batch_size=32,\n",
    "    shuffle=True\n",
    ")\n"
   ]
  },
  {
   "cell_type": "code",
   "execution_count": 255,
   "metadata": {},
   "outputs": [],
   "source": [
    "model=Sequential()\n",
    "model.add(Conv2D(32, (3, 3), activation='relu', input_shape=(28, 28, 1)))\n",
    "model.add(MaxPooling2D((2, 2)))\n",
    "model.add(Conv2D(32, (3, 3), activation='relu'))\n",
    "model.add(MaxPooling2D((2, 2)))\n",
    "model.add(Flatten())\n",
    "model.add(Dense(64, activation='relu'))\n",
    "model.add(Dense(14, activation='softmax'))"
   ]
  },
  {
   "cell_type": "code",
   "execution_count": 256,
   "metadata": {},
   "outputs": [
    {
     "name": "stdout",
     "output_type": "stream",
     "text": [
      "Epoch 1/25\n"
     ]
    },
    {
     "name": "stdout",
     "output_type": "stream",
     "text": [
      "1113/1113 [==============================] - 16s 14ms/step - loss: 0.2584 - accuracy: 0.9216 - val_loss: 0.1032 - val_accuracy: 0.9690\n",
      "Epoch 2/25\n",
      "1113/1113 [==============================] - 24s 21ms/step - loss: 0.0790 - accuracy: 0.9754 - val_loss: 0.0806 - val_accuracy: 0.9755\n",
      "Epoch 3/25\n",
      "1113/1113 [==============================] - 12s 10ms/step - loss: 0.0535 - accuracy: 0.9835 - val_loss: 0.0728 - val_accuracy: 0.9791\n",
      "Epoch 4/25\n",
      "1113/1113 [==============================] - 14s 12ms/step - loss: 0.0407 - accuracy: 0.9873 - val_loss: 0.0744 - val_accuracy: 0.9774\n",
      "Epoch 5/25\n",
      "1113/1113 [==============================] - 15s 14ms/step - loss: 0.0311 - accuracy: 0.9900 - val_loss: 0.0665 - val_accuracy: 0.9808\n",
      "Epoch 6/25\n",
      "1113/1113 [==============================] - 15s 13ms/step - loss: 0.0239 - accuracy: 0.9924 - val_loss: 0.0617 - val_accuracy: 0.9831\n",
      "Epoch 7/25\n",
      "1113/1113 [==============================] - 14s 13ms/step - loss: 0.0199 - accuracy: 0.9936 - val_loss: 0.0671 - val_accuracy: 0.9819\n",
      "Epoch 8/25\n",
      "1113/1113 [==============================] - 14s 12ms/step - loss: 0.0166 - accuracy: 0.9948 - val_loss: 0.0684 - val_accuracy: 0.9830\n",
      "Epoch 9/25\n",
      "1113/1113 [==============================] - 14s 12ms/step - loss: 0.0138 - accuracy: 0.9954 - val_loss: 0.0541 - val_accuracy: 0.9854\n",
      "Epoch 10/25\n",
      "1113/1113 [==============================] - 14s 12ms/step - loss: 0.0106 - accuracy: 0.9968 - val_loss: 0.0530 - val_accuracy: 0.9869\n",
      "Epoch 11/25\n",
      "1113/1113 [==============================] - 14s 13ms/step - loss: 0.0129 - accuracy: 0.9955 - val_loss: 0.0608 - val_accuracy: 0.9852\n",
      "Epoch 12/25\n",
      "1113/1113 [==============================] - 14s 12ms/step - loss: 0.0062 - accuracy: 0.9979 - val_loss: 0.0745 - val_accuracy: 0.9835\n",
      "Epoch 13/25\n",
      "1113/1113 [==============================] - 17s 15ms/step - loss: 0.0075 - accuracy: 0.9975 - val_loss: 0.0720 - val_accuracy: 0.9847\n",
      "Epoch 14/25\n",
      "1113/1113 [==============================] - 18s 16ms/step - loss: 0.0090 - accuracy: 0.9970 - val_loss: 0.0590 - val_accuracy: 0.9870\n",
      "Epoch 15/25\n",
      "1113/1113 [==============================] - 14s 12ms/step - loss: 0.0061 - accuracy: 0.9981 - val_loss: 0.0746 - val_accuracy: 0.9847\n",
      "Epoch 16/25\n",
      "1113/1113 [==============================] - 14s 12ms/step - loss: 0.0055 - accuracy: 0.9981 - val_loss: 0.0803 - val_accuracy: 0.9833\n",
      "Epoch 17/25\n",
      "1113/1113 [==============================] - 14s 12ms/step - loss: 0.0091 - accuracy: 0.9970 - val_loss: 0.0832 - val_accuracy: 0.9836\n",
      "Epoch 18/25\n",
      "1113/1113 [==============================] - 14s 12ms/step - loss: 0.0054 - accuracy: 0.9982 - val_loss: 0.0830 - val_accuracy: 0.9831\n",
      "Epoch 19/25\n",
      "1113/1113 [==============================] - 14s 12ms/step - loss: 0.0034 - accuracy: 0.9989 - val_loss: 0.0667 - val_accuracy: 0.9872\n",
      "Epoch 20/25\n",
      "1113/1113 [==============================] - 14s 13ms/step - loss: 0.0055 - accuracy: 0.9982 - val_loss: 0.0815 - val_accuracy: 0.9843\n",
      "Epoch 21/25\n",
      "1113/1113 [==============================] - 14s 13ms/step - loss: 0.0044 - accuracy: 0.9983 - val_loss: 0.0903 - val_accuracy: 0.9835\n",
      "Epoch 22/25\n",
      "1113/1113 [==============================] - 14s 12ms/step - loss: 0.0041 - accuracy: 0.9985 - val_loss: 0.0813 - val_accuracy: 0.9865\n",
      "Epoch 23/25\n",
      "1113/1113 [==============================] - 14s 12ms/step - loss: 0.0050 - accuracy: 0.9982 - val_loss: 0.0735 - val_accuracy: 0.9863\n",
      "Epoch 24/25\n",
      "1113/1113 [==============================] - 14s 12ms/step - loss: 0.0031 - accuracy: 0.9987 - val_loss: 0.1019 - val_accuracy: 0.9843\n",
      "Epoch 25/25\n",
      "1113/1113 [==============================] - 14s 12ms/step - loss: 0.0043 - accuracy: 0.9987 - val_loss: 0.0915 - val_accuracy: 0.9851\n"
     ]
    }
   ],
   "source": [
    "model.compile(optimizer='adam',\n",
    "              loss='sparse_categorical_crossentropy',\n",
    "              metrics=['accuracy'])\n",
    "\n",
    "history = model.fit(x = training_set, validation_data = validation_set, epochs = 25)"
   ]
  },
  {
   "cell_type": "code",
   "execution_count": 257,
   "metadata": {},
   "outputs": [],
   "source": [
    "model.save(\"digits_symbols_model.h5\")"
   ]
  }
 ],
 "metadata": {
  "kernelspec": {
   "display_name": "base",
   "language": "python",
   "name": "python3"
  },
  "language_info": {
   "codemirror_mode": {
    "name": "ipython",
    "version": 3
   },
   "file_extension": ".py",
   "mimetype": "text/x-python",
   "name": "python",
   "nbconvert_exporter": "python",
   "pygments_lexer": "ipython3",
   "version": "3.9.13"
  },
  "orig_nbformat": 4
 },
 "nbformat": 4,
 "nbformat_minor": 2
}
